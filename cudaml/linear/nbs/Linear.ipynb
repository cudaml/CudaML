{
 "cells": [
  {
   "cell_type": "code",
   "execution_count": 1,
   "metadata": {},
   "outputs": [],
   "source": [
    "import torch"
   ]
  },
  {
   "cell_type": "code",
   "execution_count": 3,
   "metadata": {},
   "outputs": [],
   "source": [
    "def normalize(X, norm='l2',axis=1, copy=True, return_norm=False):\n",
    "    if norm not in ('l1', 'l2', 'max'):\n",
    "        raise ValueError(\"'%s' is not a supported norm\" % norm)"
   ]
  },
  {
   "cell_type": "code",
   "execution_count": 36,
   "metadata": {},
   "outputs": [],
   "source": [
    "from sklearn import datasets"
   ]
  },
  {
   "cell_type": "code",
   "execution_count": 79,
   "metadata": {},
   "outputs": [],
   "source": [
    "X, y = datasets.load_diabetes(return_X_y=True)"
   ]
  },
  {
   "cell_type": "code",
   "execution_count": 80,
   "metadata": {
    "scrolled": true
   },
   "outputs": [
    {
     "data": {
      "text/plain": [
       "(442, 10)"
      ]
     },
     "execution_count": 80,
     "metadata": {},
     "output_type": "execute_result"
    }
   ],
   "source": [
    "X.shape"
   ]
  },
  {
   "cell_type": "code",
   "execution_count": 81,
   "metadata": {},
   "outputs": [
    {
     "data": {
      "text/plain": [
       "(442,)"
      ]
     },
     "execution_count": 81,
     "metadata": {},
     "output_type": "execute_result"
    }
   ],
   "source": [
    "y.shape"
   ]
  },
  {
   "cell_type": "code",
   "execution_count": 2,
   "metadata": {
    "scrolled": true
   },
   "outputs": [
    {
     "ename": "SyntaxError",
     "evalue": "unexpected EOF while parsing (<ipython-input-2-a0e67c2f2654>, line 6)",
     "output_type": "error",
     "traceback": [
      "\u001b[0;36m  File \u001b[0;32m\"<ipython-input-2-a0e67c2f2654>\"\u001b[0;36m, line \u001b[0;32m6\u001b[0m\n\u001b[0;31m    \u001b[0m\n\u001b[0m    ^\u001b[0m\n\u001b[0;31mSyntaxError\u001b[0m\u001b[0;31m:\u001b[0m unexpected EOF while parsing\n"
     ]
    }
   ],
   "source": [
    "class LinearRegression():\n",
    "    '''\n",
    "    OLS Regression\n",
    "    '''\n",
    "    def __init__(self,fit_intercept=True,normalize=False):\n",
    "        self.fit_intercept = fit_intercept\n",
    "        self.normalize = normalize\n",
    "    \n",
    "    def fit(self, X, y, sample_weight=None):\n",
    "        if torch.cuda.device_count()<1:\n",
    "            raise RuntimeError('GPU NOT FOUND')\n",
    "            \n",
    "        X = torch.tensor(X).cuda()\n",
    "        y = torch.tensor(y).cuda()\n",
    "        \n",
    "        if len(X.shape)==1: X = self._reshapeX(X)\n",
    "            \n",
    "        ones = torch.ones(X.shape[0]).view(-1,1).cuda()\n",
    "        X = torch.cat((ones,X),1)\n",
    "        \n",
    "        ## Coefficients\n",
    "        self.coeffiecients = ((torch.inverse(X.T@X)) @ X.T) @ y\n",
    "        \n",
    "    def predict()\n",
    "        pass\n",
    "        \n",
    "    def _reshapeX(X):\n",
    "        return X.view(-1,1)"
   ]
  }
 ],
 "metadata": {
  "kernelspec": {
   "display_name": "Python 3",
   "language": "python",
   "name": "python3"
  },
  "language_info": {
   "codemirror_mode": {
    "name": "ipython",
    "version": 3
   },
   "file_extension": ".py",
   "mimetype": "text/x-python",
   "name": "python",
   "nbconvert_exporter": "python",
   "pygments_lexer": "ipython3",
   "version": "3.7.7"
  }
 },
 "nbformat": 4,
 "nbformat_minor": 4
}
